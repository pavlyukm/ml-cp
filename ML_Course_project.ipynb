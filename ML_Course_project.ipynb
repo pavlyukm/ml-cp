{
  "nbformat": 4,
  "nbformat_minor": 0,
  "metadata": {
    "colab": {
      "provenance": [],
      "mount_file_id": "1L7LSrGo9JWu-BK_r6C-NrwFoiHeq0puR",
      "authorship_tag": "ABX9TyMFzym4h29c7R7pYGHzGzCt",
      "include_colab_link": true
    },
    "kernelspec": {
      "name": "python3",
      "display_name": "Python 3"
    },
    "language_info": {
      "name": "python"
    }
  },
  "cells": [
    {
      "cell_type": "markdown",
      "metadata": {
        "id": "view-in-github",
        "colab_type": "text"
      },
      "source": [
        "<a href=\"https://colab.research.google.com/github/pavlyukm/ml-cp/blob/main/ML_Course_project.ipynb\" target=\"_parent\"><img src=\"https://colab.research.google.com/assets/colab-badge.svg\" alt=\"Open In Colab\"/></a>"
      ]
    },
    {
      "cell_type": "code",
      "execution_count": null,
      "metadata": {
        "id": "CuUy_Zj0YMzo"
      },
      "outputs": [],
      "source": [
        "import pandas as pd\n",
        "import numpy as np\n",
        "import xgboost as xgb\n",
        "from sklearn.metrics import mean_absolute_error, r2_score, explained_variance_score, mean_absolute_percentage_error\n",
        "from sklearn.metrics import mean_squared_log_error\n",
        "from sklearn.preprocessing import OneHotEncoder\n",
        "from sklearn.model_selection import train_test_split\n",
        "from sklearn.ensemble import RandomForestRegressor\n",
        "from sklearn.metrics import mean_squared_error\n",
        "from sklearn.model_selection import GridSearchCV\n",
        "from sklearn.preprocessing import StandardScaler\n",
        "from sklearn.linear_model import LinearRegression\n",
        "from google.colab import drive"
      ]
    },
    {
      "cell_type": "code",
      "source": [
        "drive.mount('/content/drive')"
      ],
      "metadata": {
        "colab": {
          "base_uri": "https://localhost:8080/"
        },
        "id": "bcnIA_1PZJJi",
        "outputId": "50dee249-d92d-4911-af7e-9d14cd1010cd"
      },
      "execution_count": null,
      "outputs": [
        {
          "output_type": "stream",
          "name": "stdout",
          "text": [
            "Drive already mounted at /content/drive; to attempt to forcibly remount, call drive.mount(\"/content/drive\", force_remount=True).\n"
          ]
        }
      ]
    },
    {
      "cell_type": "code",
      "source": [
        "data = pd.read_excel('/content/drive/MyDrive/ML Course Project/Цукровий Буряк.xlsx')"
      ],
      "metadata": {
        "id": "zxHJD59TYoO2"
      },
      "execution_count": null,
      "outputs": []
    },
    {
      "cell_type": "code",
      "source": [
        "weather_data = pd.read_excel('/content/drive/MyDrive/ML Course Project/Погода.xlsx')"
      ],
      "metadata": {
        "id": "dmrP413nCLVJ"
      },
      "execution_count": null,
      "outputs": []
    },
    {
      "cell_type": "code",
      "source": [
        "data = data.dropna(subset=['Врожай-\\nність'])\n",
        "data = data.rename(columns={'Врожай-\\nність': 'Yield'})"
      ],
      "metadata": {
        "id": "Js-GKfao3idR"
      },
      "execution_count": null,
      "outputs": []
    },
    {
      "cell_type": "code",
      "source": [
        "print(data.head())"
      ],
      "metadata": {
        "colab": {
          "base_uri": "https://localhost:8080/"
        },
        "id": "8jNOeGu5ZT7k",
        "outputId": "e1e60b20-361d-45f9-d0d3-b73a56052164"
      },
      "execution_count": null,
      "outputs": [
        {
          "output_type": "stream",
          "name": "stdout",
          "text": [
            "  Зведений підрозділ  Підрозділ    Урочище   Рік Гібрид 1  \\\n",
            "0              Бишів      Бишів    Цап-лап  2016      NaN   \n",
            "1              Бишів      Бишів  Сабанівка  2016      NaN   \n",
            "2              Бишів      Бишів  Сабанівка  2016      NaN   \n",
            "3             Жвирка      Гійче    Застава  2016      NaN   \n",
            "4          Розворяни  Андріївка       Турє  2016      NaN   \n",
            "\n",
            "  Технологія\\n захисту Стійкість до нематоди Церкоспора  \\\n",
            "0             Класична                   NaN        NaN   \n",
            "1             Класична                   NaN        NaN   \n",
            "2             Класична                   NaN        NaN   \n",
            "3             Класична                   NaN        NaN   \n",
            "4             Класична                   NaN        NaN   \n",
            "\n",
            "  Кореневі і/або нематода Сівозміна з буряком  ... Прогноз Цукру  \\\n",
            "0                     NaN                   4  ...           NaN   \n",
            "1                     NaN                   4  ...           NaN   \n",
            "2                     NaN                   4  ...           NaN   \n",
            "3                     NaN                   4  ...           NaN   \n",
            "4                     NaN                   4  ...           NaN   \n",
            "\n",
            "  Відхилення по цукру        Вал  Вал Відносної врожайності         NUE  \\\n",
            "0                 NaN    10878.1                18010.09934  403.355705   \n",
            "1                 NaN    701.187                1160.905629  421.133333   \n",
            "2                 NaN   32727.99                54185.41391  448.666667   \n",
            "3                 NaN  21268.806                35213.25497  445.466667   \n",
            "4                 NaN  20405.891                33784.58775  363.194444   \n",
            "\n",
            "  Вивезення днів Меляса       рН  Дефекат  Періоди вивезення  \n",
            "0            NaN    NaN  #ERROR!      NaN                NaN  \n",
            "1            NaN    NaN  #ERROR!      NaN                NaN  \n",
            "2            NaN    NaN  #ERROR!      NaN                NaN  \n",
            "3            NaN    NaN  #ERROR!      NaN                NaN  \n",
            "4            NaN    NaN  #ERROR!      NaN                NaN  \n",
            "\n",
            "[5 rows x 62 columns]\n"
          ]
        }
      ]
    },
    {
      "cell_type": "markdown",
      "source": [
        "# Data Description\n",
        "\n",
        "## Dataset Overview\n",
        "- **Description**: This dataset contains information about sugar beets farming, including sugar yields and associated weather conditions. The goal is to analyze the impact of various factors on sugar yields.\n",
        "\n",
        "## Dataset Structure\n",
        "- **Number of Records**: 962\n",
        "- **Number of Features**: 62\n",
        "- **File Format**: XLSX\n",
        "\n",
        "## Feature Description\n",
        "\n",
        "| Feature Name                | Description                                                                 |\n",
        "|------------------------------|-----------------------------------------------------------------------------|\n",
        "| Зведений підрозділ           | Потребує уточнення, швидш за все не важлива для нас змінна                                                     |\n",
        "| Підрозділ                    | Потребує уточнення, швидш за все не важлива для нас змінна                                                           |\n",
        "| Урочище                      | Основна ділянка ферми, по якій будується звіт: всі наступні дані стсосуються саме урочища                                           |\n",
        "| Рік                          | рік збору врожаю                                                    |\n",
        "| Гібрид 1                     | тип буряка: змінна для word embedding?                                                     |\n",
        "| Технологія захисту           | Класична або СМАРТ. Слід заенкодити в 1 \\ 0                                                |\n",
        "| Стійкість до нематоди        | пусто = ні = 0, так = 1                                                     |\n",
        "| Церкоспора                   | -, --, +, ++, або цифри -- потребує уточнення, невідомо як енкодити                                                  |\n",
        "| Кореневі і/або нематода      | присутній, -, +, ++, --, +н, ++/-н, ++н, -/-, -н, або цифри, потребує уточнення, невідомо як енкодити                                                     |\n",
        "| Сівозміна з буряком          | 3, 4, більше 4, Більше 4 (Нові площі/облоги), потребує уточнення                                               |\n",
        "| Примітки                     | швидш за все неважлива змінна, досить спарс, але можна уточнити                                                    |\n",
        "| Попередник                   | яка культура росла перед буряком. Також можна зробити ебмеддінг?                                                   |\n",
        "| Згрупований попередник       | потрібно уточнити, швидш за все неважливо                                                  |\n",
        "| Площа                        | float, гектари                                                  |\n",
        "| Осн. Культура                | Цукровий буряк                                                    |\n",
        "| Період грунтообробітку       | зима або осінь, заенкодити 1-0                                                     |\n",
        "| К-ть основних обробітків      | 1 слід або 2 сліди: 1 \\ 2                                                   |\n",
        "| Тип грунту                   | тут не робоча VLOOKUP функція, потрібно попросити ці дані додатково                                                 |\n",
        "| N                            | int: припускаю це мг \\ га                                                     |\n",
        "| P2O5                         | int: припускаю це мг \\ га                                                     |\n",
        "| K2O                          | int: припускаю це мг \\ га                                                  |\n",
        "| Na2O                         | int: припускаю це мг \\ га                                                    |\n",
        "| S                            | int: припускаю це мг \\ га                                                    |\n",
        "| Безводний Аміак              | порожньо = 0 або безводний = 1                                                  |\n",
        "| Сидерати                     | порожньо = 0 так = 1                                                   |\n",
        "| Органіка                     | ні \\ так = 0 1                                                  |\n",
        "| Вид органіки                 | ВРХ, СВИ, КУР, КОМП, багато порожнього = енкодити                                                  |\n",
        "| Норма                        | int: невідомо, чого це стосується                                                |\n",
        "| Негативні чинники (Враховувати)| Гнилі, не рахуємо, слабкі сходи або порожньо = енкодити                                                |\n",
        "| Дата посіву                  | дата посіву у різному форматі                                                 |\n",
        "| Середня дата посіву          | 1-12 місяць посіву                                                  |\n",
        "| Діапазон посіву              | string: крайня дата посіву                                                   |\n",
        "| Дата появи сходів            | date                                               |\n",
        "| Дата змикання міжряддя       | дата зикання в різному форматі, швидш за все важлива змінна                                              |\n",
        "| Дата збирання                | date: дата збирання врожаю                                                  |\n",
        "| Густота на 30 день, тис.     | float: потрібно уточнити, що це означає                                              |\n",
        "| Норма висіву                 | 120 або порожньо: потрібно уточнити                                                   |\n",
        "| Густота збирання             | float: густота на момент збору? Потрібно уточнити                                                   |\n",
        "| Польова схожість             | 0-100%, густота збирання \\ норма висіву                                      |\n",
        "| Тривалість сходів            | int: дата появи сходів - дата посіву                                                   |\n",
        "| Днів до змикання міжряддя    | int: дата змикання міжряддя - дата появи сходів                                                  |\n",
        "| Тривалість активної вегетації| float: дата збирання - дата змикання                                     |\n",
        "| Група активної вегет         |string: часові періоди в днях, заенкодити                                                 |\n",
        "| Період сходів                | string: часові періоди в днях, заенкодити                                                |\n",
        "| Період вегетації             | date: дата збирання - дата появи сходів                                                 |\n",
        "| Група періоду вегетації      | string: часові періоди в днях, заенкодити                                                       |\n",
        "| Врожай-                 | float                                                    |\n",
        "| Базова врожайність           | float                                                     |\n",
        "| Відносна врожайність         | float: врожай- \\ базова врожайність                                                  |\n",
        "| Цукристість                  | float                                               |\n",
        "| Вал Цукру                    | float: Вихід Цукру з га  \\ Площа                                               |\n",
        "| Вихід Цукру з га             | float: цукристіть \\ Врожай-                                                 |\n",
        "| Прогноз Цукру                | float: =0.0427*тривалість активної вегетації + 6.9375                                                     |\n",
        "| Відхилення по цукру          | float, % : Вихід Цукру з га \\ Прогноз Цукру - 1                                                     |\n",
        "| Вал                          | float: Врожай- * Площа                                                 |\n",
        "| Вал Відносної врожайності    | float: Відносна врожайність * Площа                                             |\n",
        "| NUE                          | float: Врожай- \\  N *1000                                                    |\n",
        "| Вивезення днів               | int                                                   |\n",
        "| Меляса                       | int                                                   |\n",
        "| рН                           | неробочий VLOOKUP, треба уточнити дані                                                   |\n",
        "| Дефекат                      | 0 = порожньо = ні, 1 = так                                                    |\n",
        "| Періоди вивезення            | string: часові періоди в днях, заенкодити                                                     |\n",
        "\n",
        "\n",
        "## Target Variable\n",
        "- **Name**: Врожай-\n",
        "- **Type**: Float\n",
        "- **Description**: Врожай цукру з 1 гектару\n"
      ],
      "metadata": {
        "id": "oIbgDDk5a-eJ"
      }
    },
    {
      "cell_type": "markdown",
      "source": [
        "# Data Processing Pipeline"
      ],
      "metadata": {
        "id": "TNLR5-4XrlQc"
      }
    },
    {
      "cell_type": "code",
      "source": [
        "print(data.columns)"
      ],
      "metadata": {
        "colab": {
          "base_uri": "https://localhost:8080/"
        },
        "id": "MNcRRMcVtctD",
        "outputId": "77dfcb04-1968-4ade-86ed-35a96e45bd84"
      },
      "execution_count": null,
      "outputs": [
        {
          "output_type": "stream",
          "name": "stdout",
          "text": [
            "Index(['Зведений підрозділ', 'Підрозділ', 'Урочище', 'Рік', 'Гібрид 1',\n",
            "       'Технологія\\n захисту', 'Стійкість до нематоди', 'Церкоспора',\n",
            "       'Кореневі і/або нематода', 'Сівозміна з буряком', 'Примітки',\n",
            "       'Попередник', 'Згрупований попередник', 'Площа', 'Осн. Культура',\n",
            "       'Період грунтообробітку', 'К-ть основних обробітків', 'Тип грунту', 'N',\n",
            "       'P2O5', 'K2O', 'Na2O', 'S', 'Безводний Аміак', 'Сидерати', 'Органіка',\n",
            "       'Вид органіки', 'Норма', 'Негативні чинники (Враховувати)',\n",
            "       'Дата посіву', 'Середня дата посіву', 'Діапазон посіву',\n",
            "       'Дата появи сходів', 'Дата змикання міжряддя', 'Дата збирання',\n",
            "       'Густота на 30 день, тис.', 'Норма висіву', 'Густота збирання',\n",
            "       'Польова схожість', 'Тривалість сходів', 'Днів до змикання міжряддя',\n",
            "       'Тривалість активної вегетації', 'Група активної вегет',\n",
            "       'Період сходів', 'Період вегетації', 'Група періоду вегетації', 'Yield',\n",
            "       'Базова врожайність', 'Відносна врожайність', 'Цукристість',\n",
            "       'Вал Цукру', 'Вихід Цукру з га', 'Прогноз Цукру', 'Відхилення по цукру',\n",
            "       'Вал', 'Вал Відносної врожайності', 'NUE', 'Вивезення днів', 'Меляса',\n",
            "       'рН', 'Дефекат', 'Періоди вивезення'],\n",
            "      dtype='object')\n"
          ]
        }
      ]
    },
    {
      "cell_type": "code",
      "source": [
        "from sklearn.preprocessing import LabelEncoder\n",
        "import pandas as pd\n",
        "\n",
        "\n",
        "label_encoder = LabelEncoder()\n",
        "data_processed = data.copy()\n",
        "\n",
        "columns_to_drop = ['Згрупований попередник', 'Тип грунту', 'Осн. Культура', 'рН', 'Примітки', 'Зведений підрозділ', 'Підрозділ', 'К-ть основних обробітків', 'Норма']\n",
        "data_processed = data_processed.drop(columns=columns_to_drop, errors='ignore')\n",
        "\n",
        "numeric_features = ['Yield', 'Відносна врожайність', 'Вал Цукру',\n",
        "                    'Вихід Цукру з га', 'Прогноз Цукру', 'Відхилення по цукру',\n",
        "                    'Вал', 'Вал Відносної врожайності', 'NUE']\n",
        "\n",
        "for feature in numeric_features:\n",
        "    if feature in data_processed.columns:\n",
        "        data_processed[feature] = pd.to_numeric(data_processed[feature], errors='coerce')\n",
        "\n",
        "categorical_features = ['Урочище', 'Гібрид 1',\n",
        "                        'Технологія\\n захисту', 'Стійкість до нематоди', 'Церкоспора',\n",
        "                        'Кореневі і/або нематода', 'Сівозміна з буряком',\n",
        "                        'Попередник', 'Період грунтообробітку',\n",
        "                        'Безводний Аміак', 'Сидерати', 'Органіка', 'Вид органіки',\n",
        "                        'Негативні чинники (Враховувати)', 'Середня дата посіву',\n",
        "                        'Діапазон посіву', 'Днів до змикання міжряддя', 'Тривалість активної вегетації',\n",
        "                        'Група активної вегет', 'Період сходів', 'Група періоду вегетації',\n",
        "                        'Дефекат', 'Періоди вивезення']\n",
        "\n",
        "for feature in categorical_features:\n",
        "    if feature in data_processed.columns:\n",
        "        data_processed[feature] = data_processed[feature].astype(str).fillna('missing')\n",
        "        data_processed[feature] = label_encoder.fit_transform(data_processed[feature])\n",
        "\n",
        "date_columns = ['Дата посіву', 'Дата появи сходів', 'Дата змикання міжряддя', 'Дата збирання', 'Період вегетації']\n",
        "\n",
        "for feature in date_columns:\n",
        "    if feature in data_processed.columns:\n",
        "        data_processed[feature] = pd.to_datetime(data_processed[feature], errors='coerce')\n",
        "        data_processed[feature + '_year'] = data_processed[feature].dt.year\n",
        "        data_processed[feature + '_month'] = data_processed[feature].dt.month\n",
        "        data_processed[feature + '_day'] = data_processed[feature].dt.day\n",
        "        data_processed[feature + '_dayofweek'] = data_processed[feature].dt.dayofweek\n",
        "        data_processed = data_processed.drop(feature, axis=1)\n",
        "\n",
        "print(data_processed.head())\n",
        "print(data_processed.dtypes)"
      ],
      "metadata": {
        "id": "eDHGLYCOa9sd",
        "colab": {
          "base_uri": "https://localhost:8080/"
        },
        "outputId": "26b081fc-d1cf-4f44-ce0a-42f81f3443b8"
      },
      "execution_count": null,
      "outputs": [
        {
          "output_type": "stream",
          "name": "stdout",
          "text": [
            "   Урочище   Рік  Гібрид 1  Технологія\\n захисту  Стійкість до нематоди  \\\n",
            "0      161  2016         1                     0                      0   \n",
            "1      132  2016         1                     0                      0   \n",
            "2      132  2016         1                     0                      0   \n",
            "3       60  2016         1                     0                      0   \n",
            "4      152  2016         1                     0                      0   \n",
            "\n",
            "   Церкоспора  Кореневі і/або нематода  Сівозміна з буряком  Попередник  \\\n",
            "0          15                       23                    2           6   \n",
            "1          15                       23                    2           2   \n",
            "2          15                       23                    2           2   \n",
            "3          15                       23                    2          10   \n",
            "4          15                       23                    2           4   \n",
            "\n",
            "   Площа  ...  Дата змикання міжряддя_day  Дата змикання міжряддя_dayofweek  \\\n",
            "0  181.0  ...                         NaN                               NaN   \n",
            "1   11.1  ...                         NaN                               NaN   \n",
            "2  486.3  ...                         NaN                               NaN   \n",
            "3  318.3  ...                         NaN                               NaN   \n",
            "4  354.7  ...                         NaN                               NaN   \n",
            "\n",
            "   Дата збирання_year  Дата збирання_month  Дата збирання_day  \\\n",
            "0                 NaN                  NaN                NaN   \n",
            "1                 NaN                  NaN                NaN   \n",
            "2                 NaN                  NaN                NaN   \n",
            "3                 NaN                  NaN                NaN   \n",
            "4                 NaN                  NaN                NaN   \n",
            "\n",
            "   Дата збирання_dayofweek  Період вегетації_year  Період вегетації_month  \\\n",
            "0                      NaN                    NaN                     NaN   \n",
            "1                      NaN                    NaN                     NaN   \n",
            "2                      NaN                    NaN                     NaN   \n",
            "3                      NaN                    NaN                     NaN   \n",
            "4                      NaN                    NaN                     NaN   \n",
            "\n",
            "   Період вегетації_day  Період вегетації_dayofweek  \n",
            "0                   NaN                         NaN  \n",
            "1                   NaN                         NaN  \n",
            "2                   NaN                         NaN  \n",
            "3                   NaN                         NaN  \n",
            "4                   NaN                         NaN  \n",
            "\n",
            "[5 rows x 68 columns]\n",
            "Урочище                         int64\n",
            "Рік                             int64\n",
            "Гібрид 1                        int64\n",
            "Технологія\\n захисту            int64\n",
            "Стійкість до нематоди           int64\n",
            "                               ...   \n",
            "Дата збирання_dayofweek       float64\n",
            "Період вегетації_year         float64\n",
            "Період вегетації_month        float64\n",
            "Період вегетації_day          float64\n",
            "Період вегетації_dayofweek    float64\n",
            "Length: 68, dtype: object\n"
          ]
        }
      ]
    },
    {
      "cell_type": "code",
      "source": [
        "data_processed = data_processed.dropna(subset=['Yield'])\n",
        "X = data_processed.drop('Yield', axis=1)\n",
        "y = data_processed['Yield']\n",
        "\n",
        "X_train, X_test, y_train, y_test = train_test_split(X, y, test_size=0.25, random_state=42)\n",
        "\n",
        "# random forest to get started\n",
        "rf_model = RandomForestRegressor(n_estimators=100, random_state=42)\n",
        "\n",
        "rf_model.fit(X_train, y_train)\n",
        "\n",
        "y_pred = rf_model.predict(X_test)\n",
        "\n",
        "mse = mean_squared_error(y_test, y_pred)\n",
        "print(f'Mean Squared Error: {mse}')\n",
        "\n",
        "# Feature importance\n",
        "importances = rf_model.feature_importances_\n",
        "feature_importance_df = pd.DataFrame({\n",
        "    'Feature': X.columns,\n",
        "    'Importance': importances\n",
        "}).sort_values(by='Importance', ascending=False)\n",
        "\n",
        "print(feature_importance_df)"
      ],
      "metadata": {
        "colab": {
          "base_uri": "https://localhost:8080/"
        },
        "id": "EZV6MtE0xxYK",
        "outputId": "9d0d9a80-6a51-481c-edfb-3c43ff33476b"
      },
      "execution_count": null,
      "outputs": [
        {
          "output_type": "stream",
          "name": "stdout",
          "text": [
            "Mean Squared Error: 1.0540474925480672\n",
            "                 Feature  Importance\n",
            "37      Вихід Цукру з га    0.849311\n",
            "34  Відносна врожайність    0.058969\n",
            "35           Цукристість    0.030174\n",
            "42                   NUE    0.023004\n",
            "39   Відхилення по цукру    0.011951\n",
            "..                   ...         ...\n",
            "3   Технологія\\n захисту    0.000024\n",
            "45               Дефекат    0.000015\n",
            "15                     S    0.000012\n",
            "17              Сидерати    0.000006\n",
            "24          Норма висіву    0.000000\n",
            "\n",
            "[67 rows x 2 columns]\n"
          ]
        }
      ]
    },
    {
      "cell_type": "code",
      "source": [
        "threshold = 0.01\n",
        "important_features = feature_importance_df[feature_importance_df['Importance'] > threshold]['Feature']\n",
        "\n",
        "X_important = X[important_features]\n",
        "\n",
        "X_train_important, X_test_important, y_train, y_test = train_test_split(X_important, y, test_size=0.25, random_state=42)\n",
        "\n",
        "rf_model_important = RandomForestRegressor(n_estimators=100, random_state=42)\n",
        "rf_model_important.fit(X_train_important, y_train)\n",
        "\n",
        "y_pred_important = rf_model_important.predict(X_test_important)\n",
        "\n",
        "mse_important = mean_squared_error(y_test, y_pred_important)\n",
        "print(f'Mean Squared Error with important features: {mse_important}')"
      ],
      "metadata": {
        "colab": {
          "base_uri": "https://localhost:8080/"
        },
        "id": "iwzCpEAn1p-w",
        "outputId": "a4ee1bc2-9e77-408e-a5f7-2f99f09e7b2d"
      },
      "execution_count": null,
      "outputs": [
        {
          "output_type": "stream",
          "name": "stdout",
          "text": [
            "Mean Squared Error with important features: 0.5649684492788387\n"
          ]
        }
      ]
    },
    {
      "cell_type": "code",
      "source": [
        "xgboost_model = xgb.XGBRegressor(eval_metric='rmse', random_state = 42)\n",
        "\n",
        "# grid for hyperparameter tuning\n",
        "param_grid = {\"max_depth\":    [5],\n",
        "              \"n_estimators\": [1200, 2500, 5000],\n",
        "              \"learning_rate\": [0.02, 0.03],\n",
        "              \"subsample\" : [0.5]\n",
        "              }\n",
        "\n",
        "grid_search = GridSearchCV(estimator=xgboost_model, param_grid=param_grid, cv=5)\n",
        "\n",
        "grid_search.fit(X_train_important, y_train)\n",
        "\n",
        "best_params = grid_search.best_params_\n",
        "best_model = grid_search.best_estimator_\n",
        "\n",
        "y_pred_xgb = best_model.predict(X_test_important)\n",
        "\n",
        "mse_xgb = mean_squared_error(y_test, y_pred_xgb)\n",
        "mae = mean_absolute_error(y_test, y_pred_xgb)\n",
        "rmse = np.sqrt(mse_xgb)\n",
        "r2 = r2_score(y_test, y_pred_xgb)\n",
        "explained_variance = explained_variance_score(y_test, y_pred_xgb)\n",
        "mape = mean_absolute_percentage_error(y_test, y_pred_xgb)\n",
        "def rmsle(y_true, y_pred):\n",
        "    return np.sqrt(mean_squared_log_error(y_true, y_pred))\n",
        "\n",
        "# Ensure that the values are positive to avoid log errors\n",
        "y_test_pos = np.where(y_test <= 0, 1e-10, y_test)\n",
        "y_pred_xgb_pos = np.where(y_pred_xgb <= 0, 1e-10, y_pred_xgb)\n",
        "rmsle_value = rmsle(y_test_pos, y_pred_xgb_pos)\n",
        "print(\"The best hyperparameters are \",grid_search.best_params_)\n",
        "print(f'Mean Squared Error with XGBoost: {mse_xgb}')\n",
        "print(f'MAE: {mae}')\n",
        "print(f'RMSE: {rmse}')\n",
        "print(f'RMSLE: {rmsle_value}')\n",
        "print(f'R-squared: {r2}')\n",
        "print(f'Explained Variance Score: {explained_variance}')\n",
        "print(f'MAPE: {mape}')"
      ],
      "metadata": {
        "colab": {
          "base_uri": "https://localhost:8080/"
        },
        "id": "564RcJI55NkQ",
        "outputId": "028f34bd-6834-4c8d-f055-6fbdce92fdde"
      },
      "execution_count": null,
      "outputs": [
        {
          "output_type": "stream",
          "name": "stdout",
          "text": [
            "The best hyperparameters are  {'learning_rate': 0.02, 'max_depth': 5, 'n_estimators': 5000, 'subsample': 0.5}\n",
            "Mean Squared Error with XGBoost: 0.4395826177030723\n",
            "MAE: 0.2976454965884867\n",
            "RMSE: 0.6630102696814524\n",
            "RMSLE: 0.011097636237821172\n",
            "R-squared: 0.9967989485119624\n",
            "Explained Variance Score: 0.9968059588550209\n",
            "MAPE: 0.0047103340935051976\n"
          ]
        }
      ]
    }
  ]
}